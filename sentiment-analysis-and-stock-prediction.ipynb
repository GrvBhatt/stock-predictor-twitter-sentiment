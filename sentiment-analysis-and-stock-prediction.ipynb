{
 "cells": [
  {
   "cell_type": "code",
   "execution_count": 1,
   "id": "b5a91114",
   "metadata": {
    "_cell_guid": "b1076dfc-b9ad-4769-8c92-a6c4dae69d19",
    "_uuid": "8f2839f25d086af736a60e9eeb907d3b93b6e0e5",
    "execution": {
     "iopub.execute_input": "2022-01-01T13:43:31.358728Z",
     "iopub.status.busy": "2022-01-01T13:43:31.353084Z",
     "iopub.status.idle": "2022-01-01T13:43:31.380873Z",
     "shell.execute_reply": "2022-01-01T13:43:31.381447Z",
     "shell.execute_reply.started": "2022-01-01T13:05:49.201726Z"
    },
    "papermill": {
     "duration": 0.06085,
     "end_time": "2022-01-01T13:43:31.381731",
     "exception": false,
     "start_time": "2022-01-01T13:43:31.320881",
     "status": "completed"
    },
    "tags": []
   },
   "outputs": [],
   "source": [
    "# # This Python 3 environment comes with many helpful analytics libraries installed\n",
    "# # It is defined by the kaggle/python Docker image: https://github.com/kaggle/docker-python\n",
    "# # For example, here's several helpful packages to load\n",
    "\n",
    "# import numpy as np # linear algebra\n",
    "# import pandas as pd # data processing, CSV file I/O (e.g. pd.read_csv)\n",
    "\n",
    "# # Input data files are available in the read-only \"../input/\" directory\n",
    "# # For example, running this (by clicking run or pressing Shift+Enter) will list all files under the input directory\n",
    "\n",
    "# import os\n",
    "# for dirname, _, filenames in os.walk('/kaggle/input'):\n",
    "#     for filename in filenames:\n",
    "#         print(os.path.join(dirname, filename))\n",
    "\n",
    "# # You can write up to 20GB to the current directory (/kaggle/working/) that gets preserved as output when you create a version using \"Save & Run All\" \n",
    "# # You can also write temporary files to /kaggle/temp/, but they won't be saved outside of the current session"
   ]
  },
  {
   "cell_type": "code",
   "execution_count": 2,
   "id": "388e7c64",
   "metadata": {},
   "outputs": [],
   "source": [
    "import numpy as np # linear algebra\n",
    "import pandas as pd # data processing, CSV file I/O (e.g. pd.read_csv)"
   ]
  },
  {
   "cell_type": "code",
   "execution_count": 3,
   "id": "2a7f4678",
   "metadata": {
    "execution": {
     "iopub.execute_input": "2022-01-01T13:43:31.440576Z",
     "iopub.status.busy": "2022-01-01T13:43:31.439738Z",
     "iopub.status.idle": "2022-01-01T13:43:33.292492Z",
     "shell.execute_reply": "2022-01-01T13:43:33.291923Z",
     "shell.execute_reply.started": "2022-01-01T13:05:49.321903Z"
    },
    "papermill": {
     "duration": 1.885456,
     "end_time": "2022-01-01T13:43:33.292653",
     "exception": false,
     "start_time": "2022-01-01T13:43:31.407197",
     "status": "completed"
    },
    "tags": []
   },
   "outputs": [],
   "source": [
    "import seaborn as sns\n",
    "from nltk.tokenize import word_tokenize\n",
    "from nltk.corpus import stopwords\n",
    "from nltk.sentiment.vader import SentimentIntensityAnalyzer\n",
    "from datetime import datetime\n",
    "import matplotlib.pyplot as plt\n",
    "from sklearn.preprocessing import LabelEncoder, PolynomialFeatures\n",
    "from sklearn.model_selection import train_test_split,cross_val_score\n",
    "from sklearn.tree import DecisionTreeClassifier\n",
    "from sklearn.ensemble import RandomForestClassifier,GradientBoostingClassifier\n",
    "from sklearn.svm import SVC\n",
    "from sklearn.metrics import classification_report,confusion_matrix\n",
    "import warnings\n",
    "warnings.filterwarnings('ignore')"
   ]
  },
  {
   "cell_type": "code",
   "execution_count": 4,
   "id": "0049544f",
   "metadata": {
    "execution": {
     "iopub.execute_input": "2022-01-01T13:43:33.350891Z",
     "iopub.status.busy": "2022-01-01T13:43:33.350195Z",
     "iopub.status.idle": "2022-01-01T13:43:56.512909Z",
     "shell.execute_reply": "2022-01-01T13:43:56.513643Z",
     "shell.execute_reply.started": "2022-01-01T13:05:50.917751Z"
    },
    "papermill": {
     "duration": 23.194904,
     "end_time": "2022-01-01T13:43:56.513995",
     "exception": false,
     "start_time": "2022-01-01T13:43:33.319091",
     "status": "completed"
    },
    "tags": []
   },
   "outputs": [],
   "source": [
    "comp=pd.read_csv(\"Company.csv\")\n",
    "comp_tw=pd.read_csv(\"Company_Tweet.csv\")\n",
    "tw=pd.read_csv(\"Tweet.csv\")"
   ]
  },
  {
   "cell_type": "code",
   "execution_count": 5,
   "id": "9e808126",
   "metadata": {
    "scrolled": true
   },
   "outputs": [
    {
     "data": {
      "text/html": [
       "<div>\n",
       "<style scoped>\n",
       "    .dataframe tbody tr th:only-of-type {\n",
       "        vertical-align: middle;\n",
       "    }\n",
       "\n",
       "    .dataframe tbody tr th {\n",
       "        vertical-align: top;\n",
       "    }\n",
       "\n",
       "    .dataframe thead th {\n",
       "        text-align: right;\n",
       "    }\n",
       "</style>\n",
       "<table border=\"1\" class=\"dataframe\">\n",
       "  <thead>\n",
       "    <tr style=\"text-align: right;\">\n",
       "      <th></th>\n",
       "      <th>ticker_symbol</th>\n",
       "      <th>company_name</th>\n",
       "    </tr>\n",
       "  </thead>\n",
       "  <tbody>\n",
       "    <tr>\n",
       "      <th>0</th>\n",
       "      <td>AAPL</td>\n",
       "      <td>apple</td>\n",
       "    </tr>\n",
       "    <tr>\n",
       "      <th>1</th>\n",
       "      <td>GOOG</td>\n",
       "      <td>Google Inc</td>\n",
       "    </tr>\n",
       "    <tr>\n",
       "      <th>2</th>\n",
       "      <td>GOOGL</td>\n",
       "      <td>Google Inc</td>\n",
       "    </tr>\n",
       "    <tr>\n",
       "      <th>3</th>\n",
       "      <td>AMZN</td>\n",
       "      <td>Amazon.com</td>\n",
       "    </tr>\n",
       "    <tr>\n",
       "      <th>4</th>\n",
       "      <td>TSLA</td>\n",
       "      <td>Tesla Inc</td>\n",
       "    </tr>\n",
       "  </tbody>\n",
       "</table>\n",
       "</div>"
      ],
      "text/plain": [
       "  ticker_symbol company_name\n",
       "0          AAPL        apple\n",
       "1          GOOG   Google Inc\n",
       "2         GOOGL   Google Inc\n",
       "3          AMZN   Amazon.com\n",
       "4          TSLA    Tesla Inc"
      ]
     },
     "execution_count": 5,
     "metadata": {},
     "output_type": "execute_result"
    }
   ],
   "source": [
    "comp.head()"
   ]
  },
  {
   "cell_type": "code",
   "execution_count": 6,
   "id": "af865688",
   "metadata": {},
   "outputs": [
    {
     "data": {
      "text/plain": [
       "(6, 2)"
      ]
     },
     "execution_count": 6,
     "metadata": {},
     "output_type": "execute_result"
    }
   ],
   "source": [
    "comp.shape"
   ]
  },
  {
   "cell_type": "code",
   "execution_count": 7,
   "id": "6f228f85",
   "metadata": {
    "scrolled": true
   },
   "outputs": [
    {
     "data": {
      "text/html": [
       "<div>\n",
       "<style scoped>\n",
       "    .dataframe tbody tr th:only-of-type {\n",
       "        vertical-align: middle;\n",
       "    }\n",
       "\n",
       "    .dataframe tbody tr th {\n",
       "        vertical-align: top;\n",
       "    }\n",
       "\n",
       "    .dataframe thead th {\n",
       "        text-align: right;\n",
       "    }\n",
       "</style>\n",
       "<table border=\"1\" class=\"dataframe\">\n",
       "  <thead>\n",
       "    <tr style=\"text-align: right;\">\n",
       "      <th></th>\n",
       "      <th>tweet_id</th>\n",
       "      <th>ticker_symbol</th>\n",
       "    </tr>\n",
       "  </thead>\n",
       "  <tbody>\n",
       "    <tr>\n",
       "      <th>0</th>\n",
       "      <td>550803612197457920</td>\n",
       "      <td>AAPL</td>\n",
       "    </tr>\n",
       "    <tr>\n",
       "      <th>1</th>\n",
       "      <td>550803610825928706</td>\n",
       "      <td>AAPL</td>\n",
       "    </tr>\n",
       "    <tr>\n",
       "      <th>2</th>\n",
       "      <td>550803225113157632</td>\n",
       "      <td>AAPL</td>\n",
       "    </tr>\n",
       "    <tr>\n",
       "      <th>3</th>\n",
       "      <td>550802957370159104</td>\n",
       "      <td>AAPL</td>\n",
       "    </tr>\n",
       "    <tr>\n",
       "      <th>4</th>\n",
       "      <td>550802855129382912</td>\n",
       "      <td>AAPL</td>\n",
       "    </tr>\n",
       "  </tbody>\n",
       "</table>\n",
       "</div>"
      ],
      "text/plain": [
       "             tweet_id ticker_symbol\n",
       "0  550803612197457920          AAPL\n",
       "1  550803610825928706          AAPL\n",
       "2  550803225113157632          AAPL\n",
       "3  550802957370159104          AAPL\n",
       "4  550802855129382912          AAPL"
      ]
     },
     "execution_count": 7,
     "metadata": {},
     "output_type": "execute_result"
    }
   ],
   "source": [
    "comp_tw.head()"
   ]
  },
  {
   "cell_type": "code",
   "execution_count": 8,
   "id": "4ae49383",
   "metadata": {},
   "outputs": [
    {
     "data": {
      "text/plain": [
       "(4336445, 2)"
      ]
     },
     "execution_count": 8,
     "metadata": {},
     "output_type": "execute_result"
    }
   ],
   "source": [
    "comp_tw.shape"
   ]
  },
  {
   "cell_type": "code",
   "execution_count": 9,
   "id": "8cd3af5c",
   "metadata": {
    "scrolled": true
   },
   "outputs": [
    {
     "data": {
      "text/html": [
       "<div>\n",
       "<style scoped>\n",
       "    .dataframe tbody tr th:only-of-type {\n",
       "        vertical-align: middle;\n",
       "    }\n",
       "\n",
       "    .dataframe tbody tr th {\n",
       "        vertical-align: top;\n",
       "    }\n",
       "\n",
       "    .dataframe thead th {\n",
       "        text-align: right;\n",
       "    }\n",
       "</style>\n",
       "<table border=\"1\" class=\"dataframe\">\n",
       "  <thead>\n",
       "    <tr style=\"text-align: right;\">\n",
       "      <th></th>\n",
       "      <th>tweet_id</th>\n",
       "      <th>writer</th>\n",
       "      <th>post_date</th>\n",
       "      <th>body</th>\n",
       "      <th>comment_num</th>\n",
       "      <th>retweet_num</th>\n",
       "      <th>like_num</th>\n",
       "    </tr>\n",
       "  </thead>\n",
       "  <tbody>\n",
       "    <tr>\n",
       "      <th>0</th>\n",
       "      <td>550441509175443456</td>\n",
       "      <td>VisualStockRSRC</td>\n",
       "      <td>1420070457</td>\n",
       "      <td>lx21 made $10,008  on $AAPL -Check it out! htt...</td>\n",
       "      <td>0</td>\n",
       "      <td>0</td>\n",
       "      <td>1</td>\n",
       "    </tr>\n",
       "    <tr>\n",
       "      <th>1</th>\n",
       "      <td>550441672312512512</td>\n",
       "      <td>KeralaGuy77</td>\n",
       "      <td>1420070496</td>\n",
       "      <td>Insanity of today weirdo massive selling. $aap...</td>\n",
       "      <td>0</td>\n",
       "      <td>0</td>\n",
       "      <td>0</td>\n",
       "    </tr>\n",
       "    <tr>\n",
       "      <th>2</th>\n",
       "      <td>550441732014223360</td>\n",
       "      <td>DozenStocks</td>\n",
       "      <td>1420070510</td>\n",
       "      <td>S&amp;P100 #Stocks Performance $HD $LOW $SBUX $TGT...</td>\n",
       "      <td>0</td>\n",
       "      <td>0</td>\n",
       "      <td>0</td>\n",
       "    </tr>\n",
       "    <tr>\n",
       "      <th>3</th>\n",
       "      <td>550442977802207232</td>\n",
       "      <td>ShowDreamCar</td>\n",
       "      <td>1420070807</td>\n",
       "      <td>$GM $TSLA: Volkswagen Pushes 2014 Record Recal...</td>\n",
       "      <td>0</td>\n",
       "      <td>0</td>\n",
       "      <td>1</td>\n",
       "    </tr>\n",
       "    <tr>\n",
       "      <th>4</th>\n",
       "      <td>550443807834402816</td>\n",
       "      <td>i_Know_First</td>\n",
       "      <td>1420071005</td>\n",
       "      <td>Swing Trading: Up To 8.91% Return In 14 Days h...</td>\n",
       "      <td>0</td>\n",
       "      <td>0</td>\n",
       "      <td>1</td>\n",
       "    </tr>\n",
       "  </tbody>\n",
       "</table>\n",
       "</div>"
      ],
      "text/plain": [
       "             tweet_id           writer   post_date  \\\n",
       "0  550441509175443456  VisualStockRSRC  1420070457   \n",
       "1  550441672312512512      KeralaGuy77  1420070496   \n",
       "2  550441732014223360      DozenStocks  1420070510   \n",
       "3  550442977802207232     ShowDreamCar  1420070807   \n",
       "4  550443807834402816     i_Know_First  1420071005   \n",
       "\n",
       "                                                body  comment_num  \\\n",
       "0  lx21 made $10,008  on $AAPL -Check it out! htt...            0   \n",
       "1  Insanity of today weirdo massive selling. $aap...            0   \n",
       "2  S&P100 #Stocks Performance $HD $LOW $SBUX $TGT...            0   \n",
       "3  $GM $TSLA: Volkswagen Pushes 2014 Record Recal...            0   \n",
       "4  Swing Trading: Up To 8.91% Return In 14 Days h...            0   \n",
       "\n",
       "   retweet_num  like_num  \n",
       "0            0         1  \n",
       "1            0         0  \n",
       "2            0         0  \n",
       "3            0         1  \n",
       "4            0         1  "
      ]
     },
     "execution_count": 9,
     "metadata": {},
     "output_type": "execute_result"
    }
   ],
   "source": [
    "tw.head()"
   ]
  },
  {
   "cell_type": "code",
   "execution_count": 10,
   "id": "41a043ab",
   "metadata": {},
   "outputs": [
    {
     "data": {
      "text/plain": [
       "(3717964, 7)"
      ]
     },
     "execution_count": 10,
     "metadata": {},
     "output_type": "execute_result"
    }
   ],
   "source": [
    "tw.shape"
   ]
  },
  {
   "cell_type": "code",
   "execution_count": 11,
   "id": "0fb71f94",
   "metadata": {
    "execution": {
     "iopub.execute_input": "2022-01-01T13:43:56.591396Z",
     "iopub.status.busy": "2022-01-01T13:43:56.590104Z",
     "iopub.status.idle": "2022-01-01T13:44:08.048094Z",
     "shell.execute_reply": "2022-01-01T13:44:08.048689Z",
     "shell.execute_reply.started": "2022-01-01T13:06:11.841976Z"
    },
    "papermill": {
     "duration": 11.503974,
     "end_time": "2022-01-01T13:44:08.048866",
     "exception": false,
     "start_time": "2022-01-01T13:43:56.544892",
     "status": "completed"
    },
    "tags": []
   },
   "outputs": [],
   "source": [
    "dic=pd.Series(comp.company_name.values,index=comp.ticker_symbol).to_dict()\n",
    "comp_tw.ticker_symbol=comp_tw.ticker_symbol.map(dic)\n",
    "dic2=pd.Series(comp_tw.ticker_symbol.values,index=comp_tw.tweet_id).to_dict()\n",
    "tw.tweet_id=tw.tweet_id.map(dic2)\n",
    "tw.rename(columns={\"tweet_id\":\"company_name\"},inplace=True)"
   ]
  },
  {
   "cell_type": "code",
   "execution_count": 12,
   "id": "f8257075",
   "metadata": {
    "execution": {
     "iopub.execute_input": "2022-01-01T13:44:08.106552Z",
     "iopub.status.busy": "2022-01-01T13:44:08.105802Z",
     "iopub.status.idle": "2022-01-01T14:11:34.410776Z",
     "shell.execute_reply": "2022-01-01T14:11:34.409601Z",
     "shell.execute_reply.started": "2022-01-01T13:06:19.802441Z"
    },
    "papermill": {
     "duration": 1646.336847,
     "end_time": "2022-01-01T14:11:34.410958",
     "exception": false,
     "start_time": "2022-01-01T13:44:08.074111",
     "status": "completed"
    },
    "tags": []
   },
   "outputs": [],
   "source": [
    "stop_words=stopwords.words('english')\n",
    "def remove_stopwords(txt):\n",
    "    words=word_tokenize(txt)\n",
    "    words=[w for w in words if w.isalpha()]\n",
    "    words=[w for w in words if not w in stop_words]\n",
    "    return ' '.join(words)\n",
    "\n",
    "tw.body = tw[\"body\"].apply(remove_stopwords)\n"
   ]
  },
  {
   "cell_type": "code",
   "execution_count": 13,
   "id": "e9b8255c",
   "metadata": {},
   "outputs": [
    {
     "name": "stderr",
     "output_type": "stream",
     "text": [
      "[nltk_data] Downloading package vader_lexicon to\n",
      "[nltk_data]     C:\\Users\\bhatt\\AppData\\Roaming\\nltk_data...\n",
      "[nltk_data]   Package vader_lexicon is already up-to-date!\n"
     ]
    },
    {
     "data": {
      "text/plain": [
       "True"
      ]
     },
     "execution_count": 13,
     "metadata": {},
     "output_type": "execute_result"
    }
   ],
   "source": [
    "import nltk\n",
    "nltk.download('vader_lexicon')"
   ]
  },
  {
   "cell_type": "code",
   "execution_count": 14,
   "id": "93dd0a68",
   "metadata": {
    "execution": {
     "iopub.execute_input": "2022-01-01T14:11:34.474902Z",
     "iopub.status.busy": "2022-01-01T14:11:34.474121Z",
     "iopub.status.idle": "2022-01-01T14:25:13.008392Z",
     "shell.execute_reply": "2022-01-01T14:25:13.007463Z",
     "shell.execute_reply.started": "2022-01-01T13:23:52.366347Z"
    },
    "papermill": {
     "duration": 818.570528,
     "end_time": "2022-01-01T14:25:13.008551",
     "exception": false,
     "start_time": "2022-01-01T14:11:34.438023",
     "status": "completed"
    },
    "tags": []
   },
   "outputs": [
    {
     "name": "stdout",
     "output_type": "stream",
     "text": [
      "0          {'neg': 0.0, 'neu': 1.0, 'pos': 0.0, 'compound...\n",
      "1          {'neg': 0.442, 'neu': 0.558, 'pos': 0.0, 'comp...\n",
      "2          {'neg': 0.143, 'neu': 0.857, 'pos': 0.0, 'comp...\n",
      "3          {'neg': 0.0, 'neu': 1.0, 'pos': 0.0, 'compound...\n",
      "4          {'neg': 0.0, 'neu': 1.0, 'pos': 0.0, 'compound...\n",
      "                                 ...                        \n",
      "3717959    {'neg': 0.114, 'neu': 0.775, 'pos': 0.111, 'co...\n",
      "3717960    {'neg': 0.211, 'neu': 0.682, 'pos': 0.107, 'co...\n",
      "3717961    {'neg': 0.0, 'neu': 1.0, 'pos': 0.0, 'compound...\n",
      "3717962    {'neg': 0.0, 'neu': 1.0, 'pos': 0.0, 'compound...\n",
      "3717963    {'neg': 0.0, 'neu': 1.0, 'pos': 0.0, 'compound...\n",
      "Name: body, Length: 3717964, dtype: object\n"
     ]
    }
   ],
   "source": [
    "sia=SentimentIntensityAnalyzer()\n",
    "\n",
    "dict_sent=tw[\"body\"].apply(lambda z:sia.polarity_scores((z)))\n",
    "print(dict_sent)\n",
    "positive=[]\n",
    "negative=[]\n",
    "neutral=[]\n",
    "sentiment=[]\n",
    "compound=[]\n",
    "for w in dict_sent:\n",
    "    positive.append(w['pos'])\n",
    "    negative.append(w['neg'])\n",
    "    neutral.append(w['neu'])\n",
    "    compound.append(w[\"compound\"])\n",
    "    if (w['compound']>0.05):\n",
    "        sentiment.append(\"positive\")\n",
    "    elif (w['compound']<-0.05):\n",
    "        sentiment.append(\"negative\")\n",
    "    else:\n",
    "        sentiment.append(\"neutral\")\n"
   ]
  },
  {
   "cell_type": "code",
   "execution_count": 15,
   "id": "65763928",
   "metadata": {
    "execution": {
     "iopub.execute_input": "2022-01-01T14:25:13.135525Z",
     "iopub.status.busy": "2022-01-01T14:25:13.134036Z",
     "iopub.status.idle": "2022-01-01T14:25:18.791955Z",
     "shell.execute_reply": "2022-01-01T14:25:18.791422Z",
     "shell.execute_reply.started": "2022-01-01T13:34:06.521952Z"
    },
    "papermill": {
     "duration": 5.756934,
     "end_time": "2022-01-01T14:25:18.792089",
     "exception": false,
     "start_time": "2022-01-01T14:25:13.035155",
     "status": "completed"
    },
    "tags": []
   },
   "outputs": [
    {
     "data": {
      "text/plain": [
       "company_name        0\n",
       "writer          47273\n",
       "post_date           0\n",
       "body                0\n",
       "comment_num         0\n",
       "retweet_num         0\n",
       "like_num            0\n",
       "positive            0\n",
       "negative            0\n",
       "neutral             0\n",
       "compound            0\n",
       "sentiment           0\n",
       "dtype: int64"
      ]
     },
     "execution_count": 15,
     "metadata": {},
     "output_type": "execute_result"
    }
   ],
   "source": [
    "dic3={\"positive\":positive,\"negative\":negative,\"neutral\":neutral,\"compound\":compound,\"sentiment\":sentiment}\n",
    "data2=pd.DataFrame(dic3)\n",
    "data3=[tw,data2]\n",
    "data=pd.concat(data3,axis=1)\n",
    "data.isnull().sum()"
   ]
  },
  {
   "cell_type": "code",
   "execution_count": 16,
   "id": "c277d765",
   "metadata": {
    "execution": {
     "iopub.execute_input": "2022-01-01T14:25:18.851303Z",
     "iopub.status.busy": "2022-01-01T14:25:18.850456Z",
     "iopub.status.idle": "2022-01-01T14:25:25.971504Z",
     "shell.execute_reply": "2022-01-01T14:25:25.970920Z",
     "shell.execute_reply.started": "2022-01-01T13:34:10.120815Z"
    },
    "papermill": {
     "duration": 7.152966,
     "end_time": "2022-01-01T14:25:25.971658",
     "exception": false,
     "start_time": "2022-01-01T14:25:18.818692",
     "status": "completed"
    },
    "tags": []
   },
   "outputs": [
    {
     "name": "stdout",
     "output_type": "stream",
     "text": [
      "0         2015-01-01 05:30:57\n",
      "1         2015-01-01 05:31:36\n",
      "2         2015-01-01 05:31:50\n",
      "3         2015-01-01 05:36:47\n",
      "4         2015-01-01 05:40:05\n",
      "                  ...        \n",
      "3717959   2020-01-01 05:23:03\n",
      "3717960   2020-01-01 05:23:21\n",
      "3717961   2020-01-01 05:24:03\n",
      "3717962   2020-01-01 05:25:37\n",
      "3717963   2020-01-01 05:25:53\n",
      "Name: post_date, Length: 3717964, dtype: datetime64[ns]\n"
     ]
    },
    {
     "data": {
      "text/plain": [
       "2016    842679\n",
       "2018    766757\n",
       "2019    759484\n",
       "2015    727383\n",
       "2017    621071\n",
       "2020       590\n",
       "Name: year, dtype: int64"
      ]
     },
     "execution_count": 16,
     "metadata": {},
     "output_type": "execute_result"
    }
   ],
   "source": [
    "data.post_date=data.post_date.apply(lambda z:datetime.fromtimestamp(z))\n",
    "print(data[\"post_date\"])\n",
    "data.post_date=pd.to_datetime(data.post_date)\n",
    "data=data.assign(day=data.post_date.dt.day,month=data.post_date.dt.month,year=data.post_date.dt.year)\n",
    "data.drop(\"post_date\",axis=1,inplace=True)\n",
    "data.year.value_counts()"
   ]
  },
  {
   "cell_type": "markdown",
   "id": "6c5237e7",
   "metadata": {
    "papermill": {
     "duration": 0.027506,
     "end_time": "2022-01-01T14:25:26.027043",
     "exception": false,
     "start_time": "2022-01-01T14:25:25.999537",
     "status": "completed"
    },
    "tags": []
   },
   "source": [
    "# % of tweets received by each company"
   ]
  },
  {
   "cell_type": "code",
   "execution_count": 17,
   "id": "91fc70d3",
   "metadata": {
    "execution": {
     "iopub.execute_input": "2022-01-01T14:25:26.436338Z",
     "iopub.status.busy": "2022-01-01T14:25:26.435511Z",
     "iopub.status.idle": "2022-01-01T14:25:27.141481Z",
     "shell.execute_reply": "2022-01-01T14:25:27.142016Z",
     "shell.execute_reply.started": "2022-01-01T13:34:15.862034Z"
    },
    "papermill": {
     "duration": 1.08806,
     "end_time": "2022-01-01T14:25:27.142224",
     "exception": false,
     "start_time": "2022-01-01T14:25:26.054164",
     "status": "completed"
    },
    "tags": []
   },
   "outputs": [
    {
     "data": {
      "text/plain": [
       "<AxesSubplot:ylabel='company_name'>"
      ]
     },
     "execution_count": 17,
     "metadata": {},
     "output_type": "execute_result"
    },
    {
     "data": {
      "image/png": "[encoded data removed]",
      "text/plain": [
       "<Figure size 432x288 with 1 Axes>"
      ]
     },
     "metadata": {},
     "output_type": "display_data"
    }
   ],
   "source": [
    "data.company_name.value_counts().plot(kind=\"pie\",autopct=\"%1.0f%%\")"
   ]
  },
  {
   "cell_type": "markdown",
   "id": "00d84137",
   "metadata": {
    "papermill": {
     "duration": 0.028558,
     "end_time": "2022-01-01T14:25:27.199292",
     "exception": false,
     "start_time": "2022-01-01T14:25:27.170734",
     "status": "completed"
    },
    "tags": []
   },
   "source": [
    "# tweets in different years"
   ]
  },
  {
   "cell_type": "code",
   "execution_count": 18,
   "id": "5f3802cd",
   "metadata": {
    "execution": {
     "iopub.execute_input": "2022-01-01T14:25:27.282679Z",
     "iopub.status.busy": "2022-01-01T14:25:27.281568Z",
     "iopub.status.idle": "2022-01-01T14:25:27.399288Z",
     "shell.execute_reply": "2022-01-01T14:25:27.398758Z",
     "shell.execute_reply.started": "2022-01-01T13:34:16.814504Z"
    },
    "papermill": {
     "duration": 0.172177,
     "end_time": "2022-01-01T14:25:27.399458",
     "exception": false,
     "start_time": "2022-01-01T14:25:27.227281",
     "status": "completed"
    },
    "tags": []
   },
   "outputs": [
    {
     "data": {
      "text/plain": [
       "<AxesSubplot:ylabel='year'>"
      ]
     },
     "execution_count": 18,
     "metadata": {},
     "output_type": "execute_result"
    },
    {
     "data": {
      "image/png": "[encoded data removed]",
      "text/plain": [
       "<Figure size 432x288 with 1 Axes>"
      ]
     },
     "metadata": {},
     "output_type": "display_data"
    }
   ],
   "source": [
    "data.year.value_counts().plot(kind=\"pie\",autopct=\"%1.0f%%\")"
   ]
  },
  {
   "cell_type": "markdown",
   "id": "2b520820",
   "metadata": {
    "papermill": {
     "duration": 0.02979,
     "end_time": "2022-01-01T14:25:27.459489",
     "exception": false,
     "start_time": "2022-01-01T14:25:27.429699",
     "status": "completed"
    },
    "tags": []
   },
   "source": [
    "# Tweets with positive, negative and neutral sentiment received by each company"
   ]
  },
  {
   "cell_type": "code",
   "execution_count": 19,
   "id": "4b3ef4d5",
   "metadata": {
    "execution": {
     "iopub.execute_input": "2022-01-01T14:25:27.595260Z",
     "iopub.status.busy": "2022-01-01T14:25:27.593731Z",
     "iopub.status.idle": "2022-01-01T14:25:29.086840Z",
     "shell.execute_reply": "2022-01-01T14:25:29.086241Z",
     "shell.execute_reply.started": "2022-01-01T13:34:16.936970Z"
    },
    "papermill": {
     "duration": 1.59769,
     "end_time": "2022-01-01T14:25:29.086992",
     "exception": false,
     "start_time": "2022-01-01T14:25:27.489302",
     "status": "completed"
    },
    "tags": []
   },
   "outputs": [
    {
     "data": {
      "text/plain": [
       "(0.0, 100.0)"
      ]
     },
     "execution_count": 19,
     "metadata": {},
     "output_type": "execute_result"
    },
    {
     "data": {
      "image/png": "[encoded data removed]",
      "text/plain": [
       "<Figure size 439.75x360 with 1 Axes>"
      ]
     },
     "metadata": {
      "needs_background": "light"
     },
     "output_type": "display_data"
    }
   ],
   "source": [
    "x,y=\"company_name\",\"sentiment\"\n",
    "df1 = data.groupby(x)[y].value_counts(normalize=True)\n",
    "df1 = df1.mul(100)\n",
    "df1 = df1.rename('percent').reset_index()\n",
    "\n",
    "g = sns.catplot(x=x,y='percent',hue=y,kind='bar',data=df1)\n",
    "g.ax.set_ylim(0,100)"
   ]
  },
  {
   "cell_type": "markdown",
   "id": "7d7863e9",
   "metadata": {
    "papermill": {
     "duration": 0.030506,
     "end_time": "2022-01-01T14:25:29.148943",
     "exception": false,
     "start_time": "2022-01-01T14:25:29.118437",
     "status": "completed"
    },
    "tags": []
   },
   "source": [
    "# Ratings based on the sentiment score."
   ]
  },
  {
   "cell_type": "code",
   "execution_count": 20,
   "id": "42ef1476",
   "metadata": {
    "execution": {
     "iopub.execute_input": "2022-01-01T14:25:29.225439Z",
     "iopub.status.busy": "2022-01-01T14:25:29.222188Z",
     "iopub.status.idle": "2022-01-01T14:25:29.759463Z",
     "shell.execute_reply": "2022-01-01T14:25:29.759960Z",
     "shell.execute_reply.started": "2022-01-01T13:34:18.390692Z"
    },
    "papermill": {
     "duration": 0.58038,
     "end_time": "2022-01-01T14:25:29.760158",
     "exception": false,
     "start_time": "2022-01-01T14:25:29.179778",
     "status": "completed"
    },
    "tags": []
   },
   "outputs": [
    {
     "name": "stdout",
     "output_type": "stream",
     "text": [
      "  company_name  rating\n",
      "0   Amazon.com     3.3\n",
      "1   Google Inc     3.2\n",
      "2    Microsoft     3.2\n",
      "3    Tesla Inc     3.2\n",
      "4        apple     3.3\n"
     ]
    }
   ],
   "source": [
    "data[\"rating\"]=round(data[\"compound\"]*2+3)\n",
    "\n",
    "data.rating.value_counts()\n",
    "data.dtypes\n",
    "print(round(data.groupby(\"company_name\",as_index=False)[\"rating\"].mean(),1))"
   ]
  },
  {
   "cell_type": "code",
   "execution_count": 21,
   "id": "65baf3e5",
   "metadata": {
    "execution": {
     "iopub.execute_input": "2022-01-01T14:25:29.828073Z",
     "iopub.status.busy": "2022-01-01T14:25:29.826991Z",
     "iopub.status.idle": "2022-01-01T14:25:29.930445Z",
     "shell.execute_reply": "2022-01-01T14:25:29.931032Z",
     "shell.execute_reply.started": "2022-01-01T13:34:18.868774Z"
    },
    "papermill": {
     "duration": 0.138699,
     "end_time": "2022-01-01T14:25:29.931266",
     "exception": false,
     "start_time": "2022-01-01T14:25:29.792567",
     "status": "completed"
    },
    "tags": []
   },
   "outputs": [],
   "source": [
    "data[\"rating\"]=data.rating.astype(\"category\")"
   ]
  },
  {
   "cell_type": "code",
   "execution_count": 22,
   "id": "6b5643ab",
   "metadata": {
    "execution": {
     "iopub.execute_input": "2022-01-01T14:25:30.001650Z",
     "iopub.status.busy": "2022-01-01T14:25:30.000607Z",
     "iopub.status.idle": "2022-01-01T14:25:30.004190Z",
     "shell.execute_reply": "2022-01-01T14:25:30.004797Z",
     "shell.execute_reply.started": "2022-01-01T13:34:18.968482Z"
    },
    "papermill": {
     "duration": 0.042433,
     "end_time": "2022-01-01T14:25:30.004967",
     "exception": false,
     "start_time": "2022-01-01T14:25:29.962534",
     "status": "completed"
    },
    "tags": []
   },
   "outputs": [
    {
     "data": {
      "text/plain": [
       "company_name      object\n",
       "writer            object\n",
       "body              object\n",
       "comment_num        int64\n",
       "retweet_num        int64\n",
       "like_num           int64\n",
       "positive         float64\n",
       "negative         float64\n",
       "neutral          float64\n",
       "compound         float64\n",
       "sentiment         object\n",
       "day                int64\n",
       "month              int64\n",
       "year               int64\n",
       "rating          category\n",
       "dtype: object"
      ]
     },
     "execution_count": 22,
     "metadata": {},
     "output_type": "execute_result"
    }
   ],
   "source": [
    "data.dtypes"
   ]
  },
  {
   "cell_type": "markdown",
   "id": "d5f53527",
   "metadata": {
    "papermill": {
     "duration": 0.031801,
     "end_time": "2022-01-01T14:25:30.068673",
     "exception": false,
     "start_time": "2022-01-01T14:25:30.036872",
     "status": "completed"
    },
    "tags": []
   },
   "source": [
    "# Top 10 authors whom tweets result in poor rating of the companies. "
   ]
  },
  {
   "cell_type": "code",
   "execution_count": 23,
   "id": "5ffa06ee",
   "metadata": {
    "execution": {
     "iopub.execute_input": "2022-01-01T14:25:31.286475Z",
     "iopub.status.busy": "2022-01-01T14:25:30.396171Z",
     "iopub.status.idle": "2022-01-01T14:25:31.970945Z",
     "shell.execute_reply": "2022-01-01T14:25:31.970415Z",
     "shell.execute_reply.started": "2022-01-01T13:34:18.977366Z"
    },
    "papermill": {
     "duration": 1.855842,
     "end_time": "2022-01-01T14:25:31.971094",
     "exception": false,
     "start_time": "2022-01-01T14:25:30.115252",
     "status": "completed"
    },
    "tags": []
   },
   "outputs": [
    {
     "name": "stdout",
     "output_type": "stream",
     "text": [
      "0     MelaynaLokosky\n",
      "1        TradingGuru\n",
      "2    GlobalInvestor5\n",
      "3    Maximum_Pain_cm\n",
      "4      BertelSchmitt\n",
      "5            bgamall\n",
      "6    Wise_Owl_Trader\n",
      "7            Dope007\n",
      "8           SamAntar\n",
      "9         PollsTesla\n",
      "Name: writer, dtype: object\n"
     ]
    }
   ],
   "source": [
    "author=data.groupby([\"writer\"]).sum().nsmallest(10,\"compound\").reset_index().writer\n",
    "print(author)"
   ]
  },
  {
   "cell_type": "markdown",
   "id": "1911033f",
   "metadata": {
    "papermill": {
     "duration": 0.033752,
     "end_time": "2022-01-01T14:25:32.036789",
     "exception": false,
     "start_time": "2022-01-01T14:25:32.003037",
     "status": "completed"
    },
    "tags": []
   },
   "source": [
    "# Companies trolled"
   ]
  },
  {
   "cell_type": "code",
   "execution_count": 24,
   "id": "ea1e0325",
   "metadata": {
    "execution": {
     "iopub.execute_input": "2022-01-01T14:25:32.570756Z",
     "iopub.status.busy": "2022-01-01T14:25:32.568781Z",
     "iopub.status.idle": "2022-01-01T14:25:36.814982Z",
     "shell.execute_reply": "2022-01-01T14:25:36.815541Z",
     "shell.execute_reply.started": "2022-01-01T13:34:20.386025Z"
    },
    "papermill": {
     "duration": 4.746797,
     "end_time": "2022-01-01T14:25:36.815760",
     "exception": false,
     "start_time": "2022-01-01T14:25:32.068963",
     "status": "completed"
    },
    "tags": []
   },
   "outputs": [
    {
     "data": {
      "image/png": "[encoded data removed]",
      "text/plain": [
       "<Figure size 432x288 with 1 Axes>"
      ]
     },
     "metadata": {
      "needs_background": "light"
     },
     "output_type": "display_data"
    }
   ],
   "source": [
    "company=[]\n",
    "for w in author:\n",
    "    company.append(data.loc[data['writer'] == w, 'company_name'].iloc[0])\n",
    "troll=pd.DataFrame(list(zip(author,company)),columns=['author','company'])\n",
    "sns.countplot(x=\"company\",data=troll).set_title(\"Companies trolled by authors\")\n",
    "plt.show()"
   ]
  },
  {
   "cell_type": "code",
   "execution_count": 25,
   "id": "0446fad0",
   "metadata": {
    "execution": {
     "iopub.execute_input": "2022-01-01T14:25:36.886988Z",
     "iopub.status.busy": "2022-01-01T14:25:36.886265Z",
     "iopub.status.idle": "2022-01-01T14:25:37.107558Z",
     "shell.execute_reply": "2022-01-01T14:25:37.105684Z",
     "shell.execute_reply.started": "2022-01-01T13:34:22.725794Z"
    },
    "papermill": {
     "duration": 0.260219,
     "end_time": "2022-01-01T14:25:37.109037",
     "exception": false,
     "start_time": "2022-01-01T14:25:36.848818",
     "status": "completed"
    },
    "tags": []
   },
   "outputs": [],
   "source": [
    "data.drop([\"writer\",\"body\",\"day\",\"month\",\"year\"],axis=1,inplace=True)"
   ]
  },
  {
   "cell_type": "code",
   "execution_count": 26,
   "id": "5098cdf9",
   "metadata": {
    "execution": {
     "iopub.execute_input": "2022-01-01T14:25:37.456445Z",
     "iopub.status.busy": "2022-01-01T14:25:37.455496Z",
     "iopub.status.idle": "2022-01-01T14:25:39.932705Z",
     "shell.execute_reply": "2022-01-01T14:25:39.933202Z",
     "shell.execute_reply.started": "2022-01-01T13:34:22.894828Z"
    },
    "papermill": {
     "duration": 2.741538,
     "end_time": "2022-01-01T14:25:39.933425",
     "exception": false,
     "start_time": "2022-01-01T14:25:37.191887",
     "status": "completed"
    },
    "tags": []
   },
   "outputs": [],
   "source": [
    "le_comp=LabelEncoder()\n",
    "le_sent=LabelEncoder()\n",
    "\n",
    "data[\"company_name\"]=le_comp.fit_transform(data[\"company_name\"])\n",
    "data[\"sentiment\"]=le_sent.fit_transform(data[\"sentiment\"])\n",
    "\n"
   ]
  },
  {
   "cell_type": "code",
   "execution_count": 27,
   "id": "71143123",
   "metadata": {
    "execution": {
     "iopub.execute_input": "2022-01-01T14:25:40.001997Z",
     "iopub.status.busy": "2022-01-01T14:25:40.001051Z",
     "iopub.status.idle": "2022-01-01T14:25:40.980565Z",
     "shell.execute_reply": "2022-01-01T14:25:40.979976Z",
     "shell.execute_reply.started": "2022-01-01T13:34:24.209168Z"
    },
    "papermill": {
     "duration": 1.014998,
     "end_time": "2022-01-01T14:25:40.980710",
     "exception": false,
     "start_time": "2022-01-01T14:25:39.965712",
     "status": "completed"
    },
    "tags": []
   },
   "outputs": [],
   "source": [
    "y=data[\"rating\"]\n",
    "x=data.drop(\"rating\",axis=1)\n",
    "x=x.values\n",
    "#x=PolynomialFeatures(degree=2, include_bias=False).fit_transform(x)\n",
    "x_train,x_test,y_train,y_test=train_test_split(x,y,test_size=0.2,random_state=0)\n"
   ]
  },
  {
   "cell_type": "code",
   "execution_count": 28,
   "id": "33140643",
   "metadata": {
    "execution": {
     "iopub.execute_input": "2022-01-01T14:25:41.053149Z",
     "iopub.status.busy": "2022-01-01T14:25:41.049273Z",
     "iopub.status.idle": "2022-01-01T14:25:41.076609Z",
     "shell.execute_reply": "2022-01-01T14:25:41.077185Z",
     "shell.execute_reply.started": "2022-01-01T13:34:25.198787Z"
    },
    "papermill": {
     "duration": 0.06447,
     "end_time": "2022-01-01T14:25:41.077379",
     "exception": false,
     "start_time": "2022-01-01T14:25:41.012909",
     "status": "completed"
    },
    "tags": []
   },
   "outputs": [
    {
     "data": {
      "text/plain": [
       "3.0    1957269\n",
       "4.0    1036135\n",
       "2.0     456627\n",
       "5.0     224211\n",
       "1.0      43722\n",
       "Name: rating, dtype: int64"
      ]
     },
     "execution_count": 28,
     "metadata": {},
     "output_type": "execute_result"
    }
   ],
   "source": [
    "data[\"rating\"].value_counts()"
   ]
  },
  {
   "cell_type": "markdown",
   "id": "df92f306",
   "metadata": {
    "papermill": {
     "duration": 0.03278,
     "end_time": "2022-01-01T14:25:41.166685",
     "exception": false,
     "start_time": "2022-01-01T14:25:41.133905",
     "status": "completed"
    },
    "tags": []
   },
   "source": [
    "# Let us look at the performance of different classifiers"
   ]
  },
  {
   "cell_type": "markdown",
   "id": "0fbd4241",
   "metadata": {
    "papermill": {
     "duration": 0.032841,
     "end_time": "2022-01-01T14:25:41.232466",
     "exception": false,
     "start_time": "2022-01-01T14:25:41.199625",
     "status": "completed"
    },
    "tags": []
   },
   "source": [
    "# 1. Decision Tree Classifier"
   ]
  },
  {
   "cell_type": "code",
   "execution_count": 29,
   "id": "819b1755",
   "metadata": {
    "execution": {
     "iopub.execute_input": "2022-01-01T14:25:41.306371Z",
     "iopub.status.busy": "2022-01-01T14:25:41.304916Z",
     "iopub.status.idle": "2022-01-01T14:25:48.065584Z",
     "shell.execute_reply": "2022-01-01T14:25:48.066168Z",
     "shell.execute_reply.started": "2022-01-01T13:34:25.223866Z"
    },
    "papermill": {
     "duration": 6.8011,
     "end_time": "2022-01-01T14:25:48.066357",
     "exception": false,
     "start_time": "2022-01-01T14:25:41.265257",
     "status": "completed"
    },
    "tags": []
   },
   "outputs": [
    {
     "name": "stdout",
     "output_type": "stream",
     "text": [
      "              precision    recall  f1-score   support\n",
      "\n",
      "         1.0       1.00      1.00      1.00      8728\n",
      "         2.0       1.00      1.00      1.00     91061\n",
      "         3.0       1.00      1.00      1.00    391717\n",
      "         4.0       1.00      1.00      1.00    207201\n",
      "         5.0       1.00      1.00      1.00     44886\n",
      "\n",
      "    accuracy                           1.00    743593\n",
      "   macro avg       1.00      1.00      1.00    743593\n",
      "weighted avg       1.00      1.00      1.00    743593\n",
      "\n",
      "[[  8728      0      0      0      0]\n",
      " [     0  91061      0      0      0]\n",
      " [     0      0 391717      0      0]\n",
      " [     0      0      0 207201      0]\n",
      " [     0      0      0      0  44886]]\n"
     ]
    }
   ],
   "source": [
    "model = DecisionTreeClassifier(random_state=0)\n",
    "model.fit(x_train, y_train)\n",
    "predictions = model.predict(x_test)\n",
    "print(classification_report(y_test, predictions))\n",
    "print(confusion_matrix(y_test, predictions))"
   ]
  },
  {
   "cell_type": "markdown",
   "id": "fc152ae4",
   "metadata": {
    "papermill": {
     "duration": 0.03381,
     "end_time": "2022-01-01T14:25:48.133662",
     "exception": false,
     "start_time": "2022-01-01T14:25:48.099852",
     "status": "completed"
    },
    "tags": []
   },
   "source": []
  },
  {
   "cell_type": "markdown",
   "id": "71c14fdf",
   "metadata": {
    "papermill": {
     "duration": 0.034349,
     "end_time": "2022-01-01T14:25:48.201834",
     "exception": false,
     "start_time": "2022-01-01T14:25:48.167485",
     "status": "completed"
    },
    "tags": []
   },
   "source": []
  },
  {
   "cell_type": "code",
   "execution_count": 30,
   "id": "ac84d380",
   "metadata": {
    "execution": {
     "iopub.execute_input": "2022-01-01T14:25:48.277044Z",
     "iopub.status.busy": "2022-01-01T14:25:48.275758Z",
     "iopub.status.idle": "2022-01-01T14:26:08.570323Z",
     "shell.execute_reply": "2022-01-01T14:26:08.569750Z",
     "shell.execute_reply.started": "2022-01-01T13:34:32.885135Z"
    },
    "papermill": {
     "duration": 20.335062,
     "end_time": "2022-01-01T14:26:08.570468",
     "exception": false,
     "start_time": "2022-01-01T14:25:48.235406",
     "status": "completed"
    },
    "tags": []
   },
   "outputs": [
    {
     "name": "stdout",
     "output_type": "stream",
     "text": [
      "              precision    recall  f1-score   support\n",
      "\n",
      "         1.0       1.00      1.00      1.00      8728\n",
      "         2.0       1.00      1.00      1.00     91061\n",
      "         3.0       1.00      1.00      1.00    391717\n",
      "         4.0       1.00      1.00      1.00    207201\n",
      "         5.0       1.00      1.00      1.00     44886\n",
      "\n",
      "    accuracy                           1.00    743593\n",
      "   macro avg       1.00      1.00      1.00    743593\n",
      "weighted avg       1.00      1.00      1.00    743593\n",
      "\n",
      "[[  8726      2      0      0      0]\n",
      " [     1  91060      0      0      0]\n",
      " [     0      0 391717      0      0]\n",
      " [     0      0      0 207201      0]\n",
      " [     0      0      0      0  44886]]\n"
     ]
    }
   ],
   "source": [
    "model=RandomForestClassifier(n_estimators=5)\n",
    "model.fit(x_train, y_train)\n",
    "predictions = model.predict(x_test)\n",
    "print(classification_report(y_test, predictions))\n",
    "print(confusion_matrix(y_test, predictions))"
   ]
  },
  {
   "cell_type": "markdown",
   "id": "d65088bb",
   "metadata": {
    "papermill": {
     "duration": 0.033941,
     "end_time": "2022-01-01T14:26:08.638888",
     "exception": false,
     "start_time": "2022-01-01T14:26:08.604947",
     "status": "completed"
    },
    "tags": []
   },
   "source": [
    "# Gradient Boosting Classifier"
   ]
  },
  {
   "cell_type": "code",
   "execution_count": 31,
   "id": "b2cf14e5",
   "metadata": {
    "execution": {
     "iopub.execute_input": "2022-01-01T14:26:08.714399Z",
     "iopub.status.busy": "2022-01-01T14:26:08.712977Z",
     "iopub.status.idle": "2022-01-01T14:27:56.780157Z",
     "shell.execute_reply": "2022-01-01T14:27:56.780742Z",
     "shell.execute_reply.started": "2022-01-01T13:34:53.204682Z"
    },
    "papermill": {
     "duration": 108.108034,
     "end_time": "2022-01-01T14:27:56.780935",
     "exception": false,
     "start_time": "2022-01-01T14:26:08.672901",
     "status": "completed"
    },
    "tags": []
   },
   "outputs": [
    {
     "name": "stdout",
     "output_type": "stream",
     "text": [
      "              precision    recall  f1-score   support\n",
      "\n",
      "         1.0       1.00      1.00      1.00      8728\n",
      "         2.0       1.00      1.00      1.00     91061\n",
      "         3.0       1.00      1.00      1.00    391717\n",
      "         4.0       1.00      1.00      1.00    207201\n",
      "         5.0       1.00      1.00      1.00     44886\n",
      "\n",
      "    accuracy                           1.00    743593\n",
      "   macro avg       1.00      1.00      1.00    743593\n",
      "weighted avg       1.00      1.00      1.00    743593\n",
      "\n",
      "[[  8728      0      0      0      0]\n",
      " [     0  91061      0      0      0]\n",
      " [     0      0 391717      0      0]\n",
      " [     0      0      0 207201      0]\n",
      " [     0      0      0      0  44886]]\n"
     ]
    }
   ],
   "source": [
    "model=GradientBoostingClassifier(n_estimators=5)\n",
    "model.fit(x_train, y_train)\n",
    "predictions = model.predict(x_test)\n",
    "print(classification_report(y_test, predictions))\n",
    "print(confusion_matrix(y_test, predictions))"
   ]
  }
 ],
 "metadata": {
  "kernelspec": {
   "display_name": "Python 3 (ipykernel)",
   "language": "python",
   "name": "python3"
  },
  "language_info": {
   "codemirror_mode": {
    "name": "ipython",
    "version": 3
   },
   "file_extension": ".py",
   "mimetype": "text/x-python",
   "name": "python",
   "nbconvert_exporter": "python",
   "pygments_lexer": "ipython3",
   "version": "3.9.12"
  },
  "papermill": {
   "default_parameters": {},
   "duration": 2677.258201,
   "end_time": "2022-01-01T14:27:59.138879",
   "environment_variables": {},
   "exception": null,
   "input_path": "__notebook__.ipynb",
   "output_path": "__notebook__.ipynb",
   "parameters": {},
   "start_time": "2022-01-01T13:43:21.880678",
   "version": "2.3.3"
  }
 },
 "nbformat": 4,
 "nbformat_minor": 5
}
